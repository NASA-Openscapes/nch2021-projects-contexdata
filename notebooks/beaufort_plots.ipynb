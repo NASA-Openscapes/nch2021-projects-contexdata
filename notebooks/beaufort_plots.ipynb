{
 "cells": [
  {
   "cell_type": "markdown",
   "id": "5ccb8f73-e346-46b9-aa7e-05e29940e758",
   "metadata": {},
   "source": [
    "# For a given day, plot in situ & satellite fields in the Beaufort Sea\n",
    "\n",
    "Still in development, use with care!\n",
    "\n",
    "Kyla Drushka\n"
   ]
  },
  {
   "cell_type": "code",
   "execution_count": 1,
   "id": "0b336e6d-0b36-4162-9525-c979e347e5ca",
   "metadata": {},
   "outputs": [],
   "source": [
    "import os\n",
    "import s3fs\n",
    "import requests\n",
    "import numpy as np\n",
    "import pandas as pd\n",
    "import xarray as xr\n",
    "import matplotlib.pyplot as plt\n",
    "from pprint import pprint\n",
    "from pathlib import Path\n",
    "import h5py\n",
    "import glob as glob\n",
    "import pyresample as pr\n",
    "from pyresample.kd_tree import resample_gauss"
   ]
  },
  {
   "cell_type": "code",
   "execution_count": 2,
   "id": "a2f9b91f-3eac-49e1-876d-d190bf61c3ba",
   "metadata": {},
   "outputs": [
    {
     "name": "stdout",
     "output_type": "stream",
     "text": [
      "2021-09-01T00:00:00/2021-09-01T23:59:59\n"
     ]
    }
   ],
   "source": [
    "# define date and domain of interest\n",
    "start_date = \"2021-09-01T00:00:00\"\n",
    "end_date = \"2021-09-01T23:59:59\" # one day \n",
    "date_range = start_date + \"/\" + end_date\n",
    "print(date_range)\n",
    "# beaufort\n",
    "lonrange = [-160, -130]\n",
    "latrange = [68, 80]\n",
    "bounding_box = (f'{lonrange[0]},{latrange[0]},{lonrange[1]},{latrange[1]}') # make this a string"
   ]
  },
  {
   "cell_type": "markdown",
   "id": "cb30c970-f264-497c-bc31-3ef8aea108ad",
   "metadata": {},
   "source": [
    "### L3 SMAP SSS. \n",
    "Data are on-premesis, so download the file locally\n",
    "\n",
    "JPL SMAP is better near sea ice, so use that.\n",
    "\n",
    "note, this requires that the .netrc file includes a PO.DAAC tools password, which is accessed here: https://podaac-tools.jpl.nasa.gov/drive/\n",
    "\n",
    "machine podaac-tools.jpl.nasa.gov \\\n",
    "login USERNAME\\\n",
    "password YOUR_PW"
   ]
  },
  {
   "cell_type": "code",
   "execution_count": null,
   "id": "98d2a0b1-07ea-41c2-92ad-ba38db43f8ce",
   "metadata": {},
   "outputs": [],
   "source": [
    "concept_id = 'C1650311642-PODAAC' # from earthdatasearch 'C1972955240-PODAAC' is RSS smap\n",
    "granule_url = 'https://cmr.earthdata.nasa.gov/search/granules'\n",
    "response = requests.get(granule_url,\n",
    "                       params={\n",
    "                           'concept_id': concept_id,\n",
    "                           'temporal': date_range,  \n",
    "                           'bounding_box': bounding_box,\n",
    "                           'page_size': 200,\n",
    "                       },\n",
    "                       headers={\n",
    "                           'Accept': 'application/json'\n",
    "                       }\n",
    "                      )\n",
    "print(response.headers['CMR-Hits']) "
   ]
  },
  {
   "cell_type": "code",
   "execution_count": null,
   "id": "ae539902-4071-41ad-a407-b31facbb4f4b",
   "metadata": {},
   "outputs": [],
   "source": [
    "# create a local downloads folder\n",
    "os.makedirs(\"downloads\", exist_ok=True)\n",
    "\n",
    "# download the granules\n",
    "granules = response.json()['feed']['entry']\n",
    "for granule in granules:\n",
    "    url = granule['links'][0]['href']\n",
    "    id = granule['title']    \n",
    "    r = requests.get(url)\n",
    "    outfile = Path('downloads', id)\n",
    "    if not outfile.exists():\n",
    "        print(url, id)\n",
    "        with open(outfile, 'wb') as f:\n",
    "            f.write(r.content)                     "
   ]
  },
  {
   "cell_type": "markdown",
   "id": "0dc70b16-4faa-4792-a632-e74f5c0231e4",
   "metadata": {},
   "source": [
    "### L2 SMAP SSS\n",
    "\n",
    "Also on-premesis. \n",
    "\n",
    "Use NRT product (C1972954180-PODAAC), as this notebook is intended to be used during a field campaign.\n",
    "Delayed-time product is C1972961258-PODAAC\n"
   ]
  },
  {
   "cell_type": "code",
   "execution_count": 21,
   "id": "6271d6d9-5f34-49d6-9cd6-50905a729fd0",
   "metadata": {},
   "outputs": [
    {
     "name": "stdout",
     "output_type": "stream",
     "text": [
      "10\n"
     ]
    }
   ],
   "source": [
    "concept_id = 'C1972954180-PODAAC' # from earthdatasearch NRT => doesn't work\n",
    "concept_id = 'C1972961258-PODAAC' # delayed mode https://search.earthdata.nasa.gov/search/granules?p=C1972961258-PODAAC\n",
    "granule_url = 'https://cmr.earthdata.nasa.gov/search/granules'\n",
    "response = requests.get(granule_url,\n",
    "                       params={\n",
    "                           'concept_id': concept_id,\n",
    "                           'temporal': date_range,  \n",
    "                           'bounding_box': bounding_box,\n",
    "                           'page_size': 200,\n",
    "                       },\n",
    "                       headers={\n",
    "                           'Accept': 'application/json'\n",
    "                       }\n",
    "                      )\n",
    "print(response.headers['CMR-Hits']) "
   ]
  },
  {
   "cell_type": "code",
   "execution_count": null,
   "id": "cf7dfd61-c701-43a9-a8f3-299d6496a3f3",
   "metadata": {},
   "outputs": [],
   "source": [
    "# download the granules\n",
    "# => need this to authenticate with Drive\n",
    "from requests.auth import HTTPBasicAuth\n",
    "\n",
    "\n",
    "granules = response.json()['feed']['entry']\n",
    "for granule in granules:\n",
    "    #we need to find the 'drive' link for the datafile, assuming the first link[0] is drive is not always correct. sometimes it's opendap.\n",
    "    for gl in granule['links']:\n",
    "        print(gl)\n",
    "        if '/drive/' in gl['href']:\n",
    "            url = gl['href']\n",
    "            break\n",
    "    id = granule['title']\n",
    "    # Password here is the 'Drive API Password' https://podaac-tools.jpl.nasa.gov/drive/\n",
    "    # user here is the Earthdata Login username\n",
    "    r = requests.get(url, auth=HTTPBasicAuth('kdrushka', 'E23UokTDpJs2LtyWcQY'))\n",
    "    outfile = Path('downloads', id)\n",
    "    #if not outfile.exists():\n",
    "    print(url, id)\n",
    "    with open(outfile, 'wb') as f:\n",
    "        f.write(r.content)   "
   ]
  },
  {
   "cell_type": "code",
   "execution_count": 23,
   "id": "809b7810-6db4-4a82-8301-c374fc6a6bd3",
   "metadata": {},
   "outputs": [
    {
     "data": {
      "text/plain": [
       "<KeysViewHDF5 ['anc_dir', 'anc_spd', 'anc_sss', 'anc_sst', 'anc_swh', 'antazi_aft', 'antazi_fore', 'azi_aft', 'azi_fore', 'ice_concentration', 'inc_aft', 'inc_fore', 'land_fraction_aft', 'land_fraction_fore', 'lat', 'lon', 'n_h_aft', 'n_h_fore', 'n_v_aft', 'n_v_fore', 'nedt_h_aft', 'nedt_h_fore', 'nedt_v_aft', 'nedt_v_fore', 'num_ambiguities', 'quality_flag', 'row_time', 'smap_ambiguity_dir', 'smap_ambiguity_spd', 'smap_high_dir', 'smap_high_dir_smooth', 'smap_high_spd', 'smap_spd', 'smap_sss', 'smap_sss_uncertainty', 'tb_h_aft', 'tb_h_bias_adj', 'tb_h_fore', 'tb_v_aft', 'tb_v_bias_adj', 'tb_v_fore']>"
      ]
     },
     "execution_count": 23,
     "metadata": {},
     "output_type": "execute_result"
    }
   ],
   "source": [
    "h5 = h5py.File(outfile, 'r')\n",
    "h5.keys() # variable names"
   ]
  },
  {
   "cell_type": "code",
   "execution_count": null,
   "id": "fbea070d-1766-47f3-b8dc-491fd0cc7513",
   "metadata": {},
   "outputs": [],
   "source": [
    "\n",
    "for granule in granules:\n",
    "    # local file:\n",
    "    id = granule['title']\n",
    "    outfile = Path('downloads', id)\n",
    "    if outfile.exists():\n",
    "        # load the file into xarray\n",
    "        ds = xr.open_mfdataset(outfile, engine='h5netcdf', phony_dims='sort')\n",
    "        # check if there are lon/lat data in our domain:\n",
    "        lons = np.reshape(ds.lon.values,[1,-1])\n",
    "        lats = np.reshape(ds.lat.values,[1,-1])\n",
    "        sss = np.reshape(ds.smap_sss.values,[1,-1])\n",
    "\n",
    "        i = ((lons > lonrange[0]) & (lons < lonrange[1]) & (lats > latrange[0]) & (lats < latrange[1])) \n",
    "        sss = sss[i]\n",
    "        # remove nans\n",
    "        \n",
    "        if len(sss)>0:\n",
    "            print(outfile, 'has', len(sss), 'datapoints in our domain')\n",
    "            plt.scatter(lons,lats,c=sss,vmin=20, vmax=30)"
   ]
  },
  {
   "cell_type": "code",
   "execution_count": 28,
   "id": "24c51f51-fcc3-4637-bc9a-5dc50b767877",
   "metadata": {},
   "outputs": [],
   "source": [
    "# run through all files, open the file, and check if there are *any* data in our lat/lon rannge\n",
    "L3files = glob.glob('downloads/RSS_smap_SSS_L3*') # use L3 SMAP - requires having one file stored locally\n",
    "\n",
    "\n",
    "# loads a single data file ...\n",
    "ds = xr.open_mfdataset(outfile, engine='h5netcdf', phony_dims='sort')\n",
    "# phony_dim_0 is swath x, phony_dim_1 is swath y, phony_dim_2 is related to SMAP ambiguity, we can ignore this here\n",
    "ds = ds.rename_dims({'phony_dim_0':'swath_x', 'phony_dim_1':'swath_y'})"
   ]
  },
  {
   "cell_type": "code",
   "execution_count": 156,
   "id": "3bfbba1f-0b20-4eff-a631-6c81d91a39ea",
   "metadata": {},
   "outputs": [
    {
     "data": {
      "text/plain": [
       "array([], dtype=float32)"
      ]
     },
     "execution_count": 156,
     "metadata": {},
     "output_type": "execute_result"
    }
   ],
   "source": [
    "# check if there are lon/lat data in our domain:\n",
    "lons = np.reshape(ds.lon.values,[1,-1])\n",
    "lats = np.reshape(ds.lat.values,[1,-1])\n",
    "sss = np.reshape(ds.smap_sss.values,[1,-1])\n",
    "\n",
    "i = ((lons > lonrange[0]) & (lons < lonrange[1]) & (lats > latrange[0]) & (lats < latrange[1])) \n",
    "sss = sss[i]\n"
   ]
  },
  {
   "cell_type": "code",
   "execution_count": 125,
   "id": "77d16782-7237-48ab-be51-6693b7c67669",
   "metadata": {},
   "outputs": [
    {
     "name": "stdout",
     "output_type": "stream",
     "text": [
      "(720, 1440) (720, 1440)\n"
     ]
    }
   ],
   "source": [
    "# follow severine's example to regrid & subsample\n",
    "L3files = glob.glob('downloads/RSS_smap_SSS_L3*') # use L3 SMAP - requires having one file stored locally\n",
    "ds_grid = xr.open_dataset(L3files[0])\n",
    "\n",
    "# define grid lat/lon mesh\n",
    "longrid = ds_grid.lon.values\n",
    "latgrid = ds_grid.lat.values\n",
    "LOgrid, LAgrid = np.meshgrid(longrid, latgrid)\n",
    "print(LOgrid.shape,LAgrid.shape)\n",
    "\n",
    "# use pyresample to define a target grid\n",
    "target = pr.SwathDefinition(LOgrid, LAgrid)\n",
    "\n",
    "# and the source data\n",
    "lons = ds.lon.values\n",
    "lats = ds.lat.values \n",
    "source = pr.SwathDefinition(lons, lats)"
   ]
  },
  {
   "cell_type": "code",
   "execution_count": 129,
   "id": "ccb6b5ff-033d-467e-88da-9e676d683e41",
   "metadata": {},
   "outputs": [
    {
     "name": "stderr",
     "output_type": "stream",
     "text": [
      "/srv/conda/envs/notebook/lib/python3.9/site-packages/pyresample/kd_tree.py:384: UserWarning: Possible more than 100 neighbours within 175000 m for some data points\n",
      "  warnings.warn(('Possible more than %s neighbours '\n"
     ]
    },
    {
     "data": {
      "text/plain": [
       "(720, 1440)"
      ]
     },
     "execution_count": 129,
     "metadata": {},
     "output_type": "execute_result"
    }
   ],
   "source": [
    "# resample:\n",
    "sss = ds.smap_sss.values\n",
    "result, stddev, counts = resample_gauss(\n",
    "    source,\n",
    "    sss,\n",
    "    target,\n",
    "    radius_of_influence=175000,  \n",
    "    sigmas=25000,\n",
    "    neighbours=100,\n",
    "    fill_value=np.nan,\n",
    "    with_uncert=True,\n",
    ")\n",
    "result.shape"
   ]
  },
  {
   "cell_type": "code",
   "execution_count": 133,
   "id": "f6bd0429-392f-457f-9438-a128472b37a1",
   "metadata": {},
   "outputs": [
    {
     "data": {
      "image/png": "[encoded data removed]",
      "text/plain": [
       "<Figure size 432x288 with 1 Axes>"
      ]
     },
     "metadata": {
      "needs_background": "light"
     },
     "output_type": "display_data"
    }
   ],
   "source": [
    "plt.pcolormesh(longrid,latgrid,result)\n",
    "plt.show()"
   ]
  },
  {
   "cell_type": "code",
   "execution_count": 103,
   "id": "00b85511-6f21-4459-b5dd-cf9e7ee17e09",
   "metadata": {},
   "outputs": [
    {
     "name": "stdout",
     "output_type": "stream",
     "text": [
      "(41134,) (41134,) (41134,)\n"
     ]
    }
   ],
   "source": [
    "# find non-nan data:\n",
    "# sss = ds.smap_sss\n",
    "\n",
    "# Severuine's code identifies fill value, but the L2 SMAP data doesn't have this field\n",
    "# - instead, should prob use quality code :/\n",
    "# attrs = {}\n",
    "# for k, v in ds.smap_sss.attrs.items():\n",
    "#         if isinstance(v, bytes):\n",
    "#             attrs[k] = v.decode('utf-8')\n",
    "#         else:\n",
    "#             attrs[k] = v\n",
    "#         print(k, ' ', attrs[k])\n",
    "# # attrs['_FillValue']\n",
    "# sss = numpy.where(ds.smap_sss < attrs['_FillValue'], ds.smap_sss, numpy.nan)\n",
    "sss = np.where(ds.smap_sss > 0, ds.smap_sss, np.nan)\n",
    "nnans = ~np.isnan(sss)\n",
    "sss = sss[nnans]\n",
    "\n",
    "lons = ds.lon.values[nnans]\n",
    "lats = ds.lat.values[nnans]  \n",
    "lons = (lons + 180) % 360 - 180\n",
    "print(sss.shape, lons.shape, lats.shape)"
   ]
  },
  {
   "cell_type": "code",
   "execution_count": 123,
   "id": "f2484ac4-639a-4a97-a1f0-33b0a575fc48",
   "metadata": {},
   "outputs": [
    {
     "data": {
      "image/png": "[encoded data removed]",
      "text/plain": [
       "<Figure size 432x288 with 1 Axes>"
      ]
     },
     "metadata": {
      "needs_background": "light"
     },
     "output_type": "display_data"
    }
   ],
   "source": [
    "dumx = np.where((ds.lon<lonrange[0], ds.lon>lonrange[1]), ds.lon, np.nan)\n",
    "dumy = np.where((ds.lat<latrange[0], ds.lat>latrange[1]), ds.lat, np.nan)\n",
    "# dum = np.where((ds.lon>lonrange[0], ds.lon<lonrange[1]), ds.smap_sss, np.nan)\n",
    "plt.plot(dumx[0,:,:],dumy[0,:,:],'.')\n",
    "# dum.shape\n",
    "\n",
    "plt.show()"
   ]
  },
  {
   "cell_type": "code",
   "execution_count": 122,
   "id": "1238821d-a65d-4ae8-b099-1694611fee30",
   "metadata": {},
   "outputs": [
    {
     "data": {
      "text/plain": [
       "[-160, -130]"
      ]
     },
     "execution_count": 122,
     "metadata": {},
     "output_type": "execute_result"
    }
   ],
   "source": [
    "lonrange"
   ]
  },
  {
   "cell_type": "code",
   "execution_count": 65,
   "id": "f600a61d-1bf2-4450-b6dc-096831ea4d76",
   "metadata": {},
   "outputs": [
    {
     "data": {
      "text/plain": [
       "array([[False, False, False, ..., False, False, False],\n",
       "       [False, False, False, ..., False, False, False],\n",
       "       [False, False, False, ..., False, False, False],\n",
       "       ...,\n",
       "       [False, False, False, ..., False, False, False],\n",
       "       [False, False, False, ..., False, False, False],\n",
       "       [False, False, False, ..., False, False, False]])"
      ]
     },
     "execution_count": 65,
     "metadata": {},
     "output_type": "execute_result"
    }
   ],
   "source": [
    "# subset data spatially\n",
    "# ds.where(ds.lon>lonrange[0] and ds.lat<lonrange[1])\n",
    "# ds.where(ds.lon>lonrange[0], smap_sss)\n",
    "# xr.where(ds.lon>lonrange[0], ds.smap_sss, 1).plot()\n",
    "# ds.lon.plot()\n",
    "# ds.sel(lon>lonrange[0])\n",
    "\n",
    "# ideep = ( subsampled_data.dep.values == subsampled_data.dep.values.min() )\n",
    "# this_var_onedep = sdata[vbl].where(sdata.dep == zpl, drop=True)\n",
    "\n",
    "\n",
    "i = ( ds.lon.values>lonrange[0] )\n",
    "plt.plot(ds.lon.sel("
   ]
  },
  {
   "cell_type": "code",
   "execution_count": 59,
   "id": "670569e8-aa84-4e6d-b038-48cd6f0d1dc3",
   "metadata": {},
   "outputs": [
    {
     "name": "stderr",
     "output_type": "stream",
     "text": [
      "/srv/conda/envs/notebook/lib/python3.9/site-packages/pyproj/crs/crs.py:1256: UserWarning: You will likely lose important projection information when converting to a PROJ string from another format. See: https://proj.org/faq.html#what-is-the-best-format-for-describing-coordinate-reference-systems\n",
      "  return self._crs.to_proj4(version=version)\n"
     ]
    }
   ],
   "source": [
    "\n",
    "\n",
    "# from pyresample import geometry, geo_filter\n",
    "lons = np.array([-170, -30, 30, 170])\n",
    "lats = np.array([20, -40, 50, -80])\n",
    "swath_def = geometry.SwathDefinition(lons, lats)\n",
    "\n",
    "data = np.array([1, 2, 3, 4])\n",
    "filter_area = geometry.AreaDefinition('test', 'test', 'test',\n",
    "                                      {'proj' : 'eqc', 'lon_0' : 0.0, 'lat_0' : 0.0},\n",
    "                                      8, 8,\n",
    "                                      (-20037508.34, -10018754.17, 20037508.34, 10018754.17)\n",
    "                                     )\n",
    "filter = np.array([[1, 1, 1, 1, 0, 0, 0, 0],\n",
    "                   [1, 1, 1, 1, 0, 0, 0, 0],\n",
    "                   [1, 1, 1, 1, 0, 0, 0, 0],\n",
    "                   [1, 1, 1, 1, 0, 0, 0, 0],\n",
    "                   [0, 0, 0, 0, 1, 1, 1, 1],\n",
    "                   [0, 0, 0, 0, 1, 1, 1, 1],\n",
    "                   [0, 0, 0, 0, 1, 1, 1, 1],\n",
    "                   [0, 0, 0, 0, 1, 1, 1, 1],\n",
    "                  ])\n",
    "grid_filter = geo_filter.GridFilter(filter_area, filter)\n",
    "swath_def_filtered, data_filtered = grid_filter.filter(swath_def, data)\n"
   ]
  },
  {
   "cell_type": "code",
   "execution_count": 60,
   "id": "219e138a-8e0a-48b5-9dcf-7e8304f5915e",
   "metadata": {},
   "outputs": [
    {
     "data": {
      "text/plain": [
       "<pyresample.geometry.CoordinateDefinition at 0x7f75dd4a09d0>"
      ]
     },
     "execution_count": 60,
     "metadata": {},
     "output_type": "execute_result"
    }
   ],
   "source": [
    "swath_def_filtered"
   ]
  },
  {
   "cell_type": "code",
   "execution_count": null,
   "id": "f3eb0c22-7ccb-417b-a414-2e7d5e52f252",
   "metadata": {},
   "outputs": [],
   "source": [
    "\n",
    "\n",
    "# can we load all data files?\n",
    "\n",
    "\n"
   ]
  },
  {
   "cell_type": "code",
   "execution_count": null,
   "id": "1a970164-1a6b-447e-96cd-2927f05a24c0",
   "metadata": {},
   "outputs": [],
   "source": [
    "# === this dopens't work - just use xarray directly\n",
    "# # Load h5 file\n",
    "# variable_names = [\n",
    "#     '/lat',  # length 720\n",
    "#     '/lon',  # length 1440\n",
    "#     '/time', # length 1 \n",
    "#     '/sss_smap' # length 720\n",
    "#     ]\n",
    "\n",
    "# with h5py.File(outfile, 'r') as h5:\n",
    "#     data_vars = {}\n",
    "#     for varname in variable_names:\n",
    "#         var = h5[varname]\n",
    "#         name = varname.split('/')[-1]\n",
    "#         # Convert attributes\n",
    "#         attrs = {}\n",
    "#         for k, v in var.attrs.items():\n",
    "#             if k != 'DIMENSION_LIST':\n",
    "#                 if isinstance(v, bytes):\n",
    "#                     attrs[k] = v.decode('utf-8')\n",
    "#                 else:\n",
    "#                     attrs[k] = v\n",
    "#         data = var[:]\n",
    "#         if '_FillValue' in attrs:\n",
    "#             data = np.where(data < attrs['_FillValue'], data, np.nan)\n",
    "#         # data_vars[name] = (['segment'], data, attrs) # skip adding attrs for now\n",
    "#         data_vars[name] = (['segment'], data)\n",
    "#     smap_l2 = xr.Dataset(data_vars)\n",
    "# smap_l2\n"
   ]
  },
  {
   "cell_type": "code",
   "execution_count": null,
   "id": "d0211b0a-44e7-4a7a-9c89-3992257d9b9c",
   "metadata": {},
   "outputs": [],
   "source": [
    "granules"
   ]
  },
  {
   "cell_type": "markdown",
   "id": "9078d14f-07c0-4b31-971c-be2b2d9ca2e0",
   "metadata": {},
   "source": [
    "### MODIS SST - from Bia's code, shared/Project1/villasboas_MODIS_SST.ipynb"
   ]
  },
  {
   "cell_type": "code",
   "execution_count": null,
   "id": "892807fa-20f8-4077-8580-72264e931a35",
   "metadata": {},
   "outputs": [],
   "source": [
    "provider = 'POCLOUD'\n",
    "url = 'https://cmr.earthdata.nasa.gov/search/collections.umm_json'\n",
    "response = requests.get(url,\n",
    "                        params={\n",
    "                            'cloud_hosted': 'True',\n",
    "                            'has_granules': 'True',\n",
    "                            'provider': provider,\n",
    "                            'page_size': 300,\n",
    "                            'temporal': date_range \n",
    "                        },\n",
    "                        headers={\n",
    "                            'Accept': 'application/json'\n",
    "                        }\n",
    "                       )\n",
    "response.headers['cmr-hits']"
   ]
  },
  {
   "cell_type": "code",
   "execution_count": null,
   "id": "1f90851b-bae6-41ae-8916-09f3db1357f4",
   "metadata": {},
   "outputs": [],
   "source": [
    "# Loop through each response in the catalog and print the respective concept ID\n",
    "# for r in response.json()['items']:\n",
    "#     print('{} ==> '.format(r['meta']['s3-links'][0].split('/')[1]), r['meta']['concept-id'])"
   ]
  },
  {
   "cell_type": "code",
   "execution_count": null,
   "id": "43ebf8c9-0787-4d74-b395-28841e3a617b",
   "metadata": {},
   "outputs": [],
   "source": [
    "# Loading credentials for direct access\n",
    "def begin_s3_direct_access(url: str=\"https://archive.podaac.earthdata.nasa.gov/s3credentials\"):\n",
    "    response = requests.get(url).json()\n",
    "    return s3fs.S3FileSystem(key=response['accessKeyId'],\n",
    "                             secret=response['secretAccessKey'],\n",
    "                             token=response['sessionToken'],\n",
    "                             client_kwargs={'region_name':'us-west-2'})\n",
    "\n",
    "fs = begin_s3_direct_access()\n",
    "\n",
    "type(fs)"
   ]
  },
  {
   "cell_type": "code",
   "execution_count": null,
   "id": "548b7d80-7905-4c08-b0a7-17ae6d20a97c",
   "metadata": {},
   "outputs": [],
   "source": [
    "url = 'https://cmr.earthdata.nasa.gov/search/granules'\n",
    "response = requests.get(url, \n",
    "                        params={\n",
    "                            'concept_id': 'C2036880650-POCLOUD',\n",
    "                            'temporal': date_range,\n",
    "                            'bounding_box': bounding_box, \n",
    "                            'page_size': 200,\n",
    "                            },\n",
    "                        headers={\n",
    "                            'Accept': 'application/json'\n",
    "                            }\n",
    "                       )\n",
    "print(response)\n",
    "print(response.headers['CMR-Hits'])"
   ]
  },
  {
   "cell_type": "code",
   "execution_count": null,
   "id": "f446d916-6860-4ee4-bab6-5e6ae191cdc9",
   "metadata": {},
   "outputs": [],
   "source": [
    "granules_url = []\n",
    "for gran in response.json()['feed']['entry']:\n",
    "    granules_url.append(gran['links'][0]['href'])\n",
    "granules_url"
   ]
  },
  {
   "cell_type": "code",
   "execution_count": null,
   "id": "6f5224dd-51e8-4ade-8c30-c64f6067c248",
   "metadata": {},
   "outputs": [],
   "source": [
    "# if the same file exists in NRT and non-NRT (ie, DT), skip the NRT version (there is definitely a cleaner way to do this...)\n",
    "for gran in granules_url:\n",
    "    if 'NRT' in gran and (gran.rsplit('NRT.nc', 1)[0] + 'nc') in granules_url: # if this has NRT *and* a non-NRT version exists\n",
    "        granules_url.remove(gran)\n",
    "print(granules_url)"
   ]
  },
  {
   "cell_type": "code",
   "execution_count": null,
   "id": "19ac7b99-bc87-47d8-a281-2cedf791e749",
   "metadata": {},
   "outputs": [],
   "source": [
    "def extract_time(ds):\n",
    "    t0 = np.datetime64(pd.to_datetime(ds.time_coverage_start).date())\n",
    "    return ds.expand_dims(time=[t0])"
   ]
  },
  {
   "cell_type": "code",
   "execution_count": null,
   "id": "04bf9b02-5c34-40e1-bc97-b57953589a1e",
   "metadata": {},
   "outputs": [],
   "source": []
  },
  {
   "cell_type": "code",
   "execution_count": null,
   "id": "7f6fd9d3-d854-418c-967e-32d47c8f5b42",
   "metadata": {},
   "outputs": [],
   "source": [
    "print(granules_url)"
   ]
  },
  {
   "cell_type": "code",
   "execution_count": null,
   "id": "e289f60d-16c6-4e54-ab49-79cdd317b985",
   "metadata": {},
   "outputs": [],
   "source": [
    "# load file(s)\n",
    "# use sel and slice to get our region. MODIS SSTs have lat from + to -, so put the bigger lat value first in the slice\n",
    "file_list =  [fs.open(file) for file in granules_url]\n",
    "ds_modis = xr.open_mfdataset(file_list, preprocess=extract_time, engine='h5netcdf',concat_dim='time', combine='nested').sel(lon=slice(lonrange[0], lonrange[1]), lat=slice(latrange[1], latrange[0]))\n",
    "ds_modis\n"
   ]
  },
  {
   "cell_type": "markdown",
   "id": "d2482c83-44a9-4dd1-a842-941dbec548c4",
   "metadata": {},
   "source": [
    "### In situ data from UpTempO buoys"
   ]
  },
  {
   "cell_type": "code",
   "execution_count": null,
   "id": "727072cb-8d3b-4fd3-9eb2-f202da2f5c21",
   "metadata": {},
   "outputs": [],
   "source": [
    "# for now, just pick a single buoy & download it locally using wget (if new)\n",
    "buoy_url = 'http://psc.apl.washington.edu/UpTempO/WebDATA/'\n",
    "buoy_file = 'UpTempO_2019_02_SIZRS-20211117.dat'\n",
    "buoy_url + buoy_file\n",
    "!wget -N {buoy_url + buoy_file} -P downloads/"
   ]
  },
  {
   "cell_type": "code",
   "execution_count": null,
   "id": "df6e3f91-4b83-4fd4-a43c-ec821d696d64",
   "metadata": {},
   "outputs": [],
   "source": [
    "# for this file, we want to skip the first 35 lines (header). can later generalize this\n",
    "filename = (f'downloads/{buoy_file}')\n",
    "f = open(filename,'r')\n",
    "# data = f.readlines()[35:]\n",
    "data = f.readlines()[35:40] # start with a small # of rows\n",
    "f.close()\n",
    "\n",
    "# %DATA COLUMNS:\n",
    "# % 0 = year\n",
    "# % 1 = month\n",
    "# % 2 = day\n",
    "# % 3 = hour (GMT)\n",
    "# % 4 = Latitude (N)\n",
    "# % 5 = Longitude (E)\n",
    "# % 6 = Ocean Pressure (dB) at Sensor #1(Nominal Depth = 20.0 m)\n",
    "# % 7 = Ocean Pressure (dB) at Sensor #2(Nominal Depth = 40.0 m)\n",
    "# % 8 = Ocean Pressure (dB) at Sensor #3(Nominal Depth = 60.0 m)\n",
    "# % 9 = Temperature at nominal depth 0.0 (m)\n",
    "# % 10 = Temperature at nominal depth 2.5 (m)\n",
    "# % 11 = Temperature at nominal depth 5.0 (m)\n",
    "# % 12 = Temperature at nominal depth 7.5 (m)\n",
    "# % 13 = Temperature at nominal depth 10.0 (m)\n",
    "# % 14 = Temperature at nominal depth 15.0 (m)\n",
    "# % 15 = Temperature at nominal depth 20.0 (m)\n",
    "# % 16 = Temperature at nominal depth 25.0 (m)\n",
    "# % 17 = Temperature at nominal depth 30.0 (m)\n",
    "# % 18 = Temperature at nominal depth 35.0 (m)\n",
    "# % 19 = Temperature at nominal depth 40.0 (m)\n",
    "# % 20 = Temperature at nominal depth 50.0 (m)\n",
    "# % 21 = Temperature at nominal depth 60.0 (m)\n",
    "# % 22 = Sea Level Pressure (mBar)\n",
    "# % 23 = Battery Voltage (V)\n",
    "# % 24 = Submergence Percent\n",
    "# 2019 08 14 20.3500 72.013322 -149.817103 0.250 0.431 0.611 13.29 5.022276 3.85962 3.70969 3.468275 3.823188 3.630601 3.738509 3.441308 3.728554 3.573352 3.425621 3.545923 1011.2 12.8 0\n",
    "# data[[:,1]]\n",
    "\n",
    "df = pd.read_csv(filename, sep=' ', skiprows=35, names=[\"year\", \"month\", \"day\", \"hour\", \"lat\", \n",
    "                                               \"lon\", \"p20\", \"p40\", \"p60\", \"T0\", \"T2p5\", \n",
    "                                               \"T5\", \"T7p5\", \"T10\", \"T15\", \"T20\", \"T25\", \n",
    "                                               \"T30\", \"T35\", \"T40\", \"T50\",\"T60\", \"SLP\", \"voltage\", \"sub_perc\"],\n",
    "                parse_dates= {\"date\" : [\"year\",\"month\",\"day\",\"hour\"]})\n",
    "df\n"
   ]
  },
  {
   "cell_type": "code",
   "execution_count": null,
   "id": "ad2c9e7e-fc32-4b9e-a93e-a8e0c932fbb0",
   "metadata": {},
   "outputs": [],
   "source": [
    "# not quite right but close!\n",
    "# df['dates'] = pd.to_datetime({df['year'],df['month'], df['day']}, format='%Y%m%d')\n",
    "\n",
    "plt.plot(df['l'],df['T0'])\n",
    "plt.show()"
   ]
  },
  {
   "cell_type": "code",
   "execution_count": null,
   "id": "bbbc882b-108e-4367-8ea6-969a35003295",
   "metadata": {},
   "outputs": [],
   "source": [
    "df.where(df['T0']!=-999)\n",
    "\n",
    "\n",
    "# plt.scatter(df['lon'],df['lat'],c=df['T0'],vmin=-5, vmax=5)\n",
    "# plt.colorbar()"
   ]
  },
  {
   "cell_type": "code",
   "execution_count": null,
   "id": "e51819f8-1ac8-46f2-97df-668b3b8fd1b7",
   "metadata": {},
   "outputs": [],
   "source": [
    "# identify data from our date range\n"
   ]
  },
  {
   "cell_type": "code",
   "execution_count": null,
   "id": "9f440807-0463-493c-827a-18bdcccb8900",
   "metadata": {},
   "outputs": [],
   "source": [
    "# plt.plot(data_vars[lon])\n",
    "# plt.show()\n",
    "# attrs['sss_smap']\n",
    "# smap_l2 = xr.Dataset(data_vars)\n",
    "# data_vars?\n",
    "\n",
    "# data_vars (dict-like, optional) – A mapping from variable names to DataArray objects,\n",
    "# Variable objects or to tuples of the form (dims, data[, attrs]) which can be used as arguments \n",
    "# to create a new Variable. Each dimension must have the same length in all variables in which it appears.\n",
    "\n",
    "# The following notations are accepted:\n",
    "\n",
    "#     mapping {var name: DataArray}\n",
    "\n",
    "#     mapping {var name: Variable}\n",
    "\n",
    "#     mapping {var name: (dimension name, array-like)}\n",
    "\n",
    "#     mapping {var name: (tuple of dimension names, array-like)}\n",
    "\n",
    "#     mapping {dimension name: array-like} (it will be automatically moved to coords, see below)\n",
    "\n",
    "# Each dimension must have the same length in all variables in which it appears.\n",
    "\n",
    "\n"
   ]
  }
 ],
 "metadata": {
  "kernelspec": {
   "display_name": "Python 3 (ipykernel)",
   "language": "python",
   "name": "python3"
  },
  "language_info": {
   "codemirror_mode": {
    "name": "ipython",
    "version": 3
   },
   "file_extension": ".py",
   "mimetype": "text/x-python",
   "name": "python",
   "nbconvert_exporter": "python",
   "pygments_lexer": "ipython3",
   "version": "3.9.7"
  }
 },
 "nbformat": 4,
 "nbformat_minor": 5
}
